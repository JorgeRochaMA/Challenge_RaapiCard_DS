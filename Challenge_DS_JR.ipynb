{
 "cells": [
  {
   "cell_type": "markdown",
   "id": "49f1d30a",
   "metadata": {},
   "source": [
    "<img src=\"Logo_RappiCard_2021_Black.jpg\" alt=\"PROYECTO TÉCNICO RAPPICARD - DS\" width=\"400\"/>\n",
    "\n",
    "### Proyecto Técnico RappiCard - DS\n",
    "\n",
    "Dentro del siguiente Notebook se presenta un modelo capaz de detectar defraudadores.\n"
   ]
  },
  {
   "cell_type": "markdown",
   "id": "ad4ec1cd",
   "metadata": {},
   "source": [
    "# 1. Cargar los datos y librerías necesarias"
   ]
  },
  {
   "cell_type": "code",
   "execution_count": 1,
   "id": "eb61f9a2",
   "metadata": {},
   "outputs": [],
   "source": [
    "# Cargamos librerías\n",
    "\n",
    "import pandas as pd\n",
    "import numpy as np\n",
    "import json\n",
    "from sklearn.model_selection import train_test_split\n",
    "from sklearn.preprocessing import OneHotEncoder, StandardScaler, LabelEncoder\n",
    "from sklearn.compose import ColumnTransformer\n",
    "from sklearn.pipeline import Pipeline\n",
    "from sklearn.linear_model import LogisticRegression\n",
    "from sklearn.metrics import accuracy_score, recall_score, precision_score, f1_score, roc_auc_score, confusion_matrix, classification_report, precision_recall_curve, roc_curve, auc\n",
    "from sklearn.model_selection import cross_val_score, StratifiedKFold, cross_val_predict\n",
    "import matplotlib.pyplot as plt\n",
    "import seaborn as sns"
   ]
  },
  {
   "cell_type": "code",
   "execution_count": 2,
   "id": "948ee58e",
   "metadata": {},
   "outputs": [],
   "source": [
    "## Import data from CSV\n",
    "import os\n",
    "os.chdir(\"/Users/AlbertoMorales/Documents/Ficheros_Rappi\")\n",
    "\n",
    "from datetime import datetime"
   ]
  },
  {
   "cell_type": "code",
   "execution_count": 3,
   "id": "aa947071",
   "metadata": {},
   "outputs": [],
   "source": [
    "## Cargar el dataset \n",
    "data=pd.read_csv(\"Reto_DS/ds_challenge_data_2024_JR.csv\")"
   ]
  },
  {
   "cell_type": "code",
   "execution_count": 4,
   "id": "0293eb96",
   "metadata": {},
   "outputs": [
    {
     "data": {
      "text/html": [
       "<div>\n",
       "<style scoped>\n",
       "    .dataframe tbody tr th:only-of-type {\n",
       "        vertical-align: middle;\n",
       "    }\n",
       "\n",
       "    .dataframe tbody tr th {\n",
       "        vertical-align: top;\n",
       "    }\n",
       "\n",
       "    .dataframe thead th {\n",
       "        text-align: right;\n",
       "    }\n",
       "</style>\n",
       "<table border=\"1\" class=\"dataframe\">\n",
       "  <thead>\n",
       "    <tr style=\"text-align: right;\">\n",
       "      <th></th>\n",
       "      <th>transaction_id</th>\n",
       "      <th>user_id</th>\n",
       "      <th>género</th>\n",
       "      <th>linea_tc</th>\n",
       "      <th>interes_tc</th>\n",
       "      <th>monto</th>\n",
       "      <th>fecha</th>\n",
       "      <th>hora</th>\n",
       "      <th>dispositivo</th>\n",
       "      <th>establecimiento</th>\n",
       "      <th>ciudad</th>\n",
       "      <th>status_txn</th>\n",
       "      <th>is_prime</th>\n",
       "      <th>dcto</th>\n",
       "      <th>cashback</th>\n",
       "      <th>fraude</th>\n",
       "    </tr>\n",
       "  </thead>\n",
       "  <tbody>\n",
       "    <tr>\n",
       "      <th>0</th>\n",
       "      <td>1</td>\n",
       "      <td>573</td>\n",
       "      <td>M</td>\n",
       "      <td>87000</td>\n",
       "      <td>56</td>\n",
       "      <td>581.03</td>\n",
       "      <td>02/01/20</td>\n",
       "      <td>0</td>\n",
       "      <td>{'año': 2019, 'marca': 'Apple', 'proveedor': '...</td>\n",
       "      <td>Farmacia</td>\n",
       "      <td>Ciudad de México</td>\n",
       "      <td>Aceptada</td>\n",
       "      <td>False</td>\n",
       "      <td>0.0</td>\n",
       "      <td>17.43</td>\n",
       "      <td>False</td>\n",
       "    </tr>\n",
       "    <tr>\n",
       "      <th>1</th>\n",
       "      <td>2</td>\n",
       "      <td>737</td>\n",
       "      <td>F</td>\n",
       "      <td>34000</td>\n",
       "      <td>51</td>\n",
       "      <td>421.73</td>\n",
       "      <td>02/01/20</td>\n",
       "      <td>0</td>\n",
       "      <td>{'año': 2021, 'marca': 'Huawei', 'proveedor': ...</td>\n",
       "      <td>Tienda departamental</td>\n",
       "      <td>Cancún</td>\n",
       "      <td>Aceptada</td>\n",
       "      <td>False</td>\n",
       "      <td>0.0</td>\n",
       "      <td>12.65</td>\n",
       "      <td>False</td>\n",
       "    </tr>\n",
       "    <tr>\n",
       "      <th>2</th>\n",
       "      <td>3</td>\n",
       "      <td>887</td>\n",
       "      <td>F</td>\n",
       "      <td>52000</td>\n",
       "      <td>38</td>\n",
       "      <td>399.55</td>\n",
       "      <td>02/01/20</td>\n",
       "      <td>0</td>\n",
       "      <td>{'año': 2017, 'marca': 'Apple', 'proveedor': '...</td>\n",
       "      <td>Farmacia</td>\n",
       "      <td>Tijuana</td>\n",
       "      <td>En proceso</td>\n",
       "      <td>False</td>\n",
       "      <td>0.0</td>\n",
       "      <td>11.99</td>\n",
       "      <td>False</td>\n",
       "    </tr>\n",
       "    <tr>\n",
       "      <th>3</th>\n",
       "      <td>4</td>\n",
       "      <td>1304</td>\n",
       "      <td>M</td>\n",
       "      <td>67000</td>\n",
       "      <td>60</td>\n",
       "      <td>828.01</td>\n",
       "      <td>02/01/20</td>\n",
       "      <td>0</td>\n",
       "      <td>{'año': 2019, 'marca': 'Samsung', 'proveedor':...</td>\n",
       "      <td>Tienda departamental</td>\n",
       "      <td>Ciudad de México</td>\n",
       "      <td>En proceso</td>\n",
       "      <td>False</td>\n",
       "      <td>0.0</td>\n",
       "      <td>24.84</td>\n",
       "      <td>False</td>\n",
       "    </tr>\n",
       "    <tr>\n",
       "      <th>4</th>\n",
       "      <td>5</td>\n",
       "      <td>1361</td>\n",
       "      <td>F</td>\n",
       "      <td>28000</td>\n",
       "      <td>52</td>\n",
       "      <td>886.04</td>\n",
       "      <td>02/01/20</td>\n",
       "      <td>0</td>\n",
       "      <td>{'año': 2021, 'marca': 'Samsung', 'proveedor':...</td>\n",
       "      <td>Supermercado</td>\n",
       "      <td>Cancún</td>\n",
       "      <td>Aceptada</td>\n",
       "      <td>False</td>\n",
       "      <td>0.0</td>\n",
       "      <td>26.58</td>\n",
       "      <td>False</td>\n",
       "    </tr>\n",
       "    <tr>\n",
       "      <th>5</th>\n",
       "      <td>6</td>\n",
       "      <td>1894</td>\n",
       "      <td>M</td>\n",
       "      <td>72000</td>\n",
       "      <td>53</td>\n",
       "      <td>736.88</td>\n",
       "      <td>02/01/20</td>\n",
       "      <td>0</td>\n",
       "      <td>{'año': 2020, 'marca': 'Motorola', 'proveedor'...</td>\n",
       "      <td>Farmacia</td>\n",
       "      <td>Ciudad de México</td>\n",
       "      <td>En proceso</td>\n",
       "      <td>False</td>\n",
       "      <td>0.0</td>\n",
       "      <td>22.11</td>\n",
       "      <td>False</td>\n",
       "    </tr>\n",
       "  </tbody>\n",
       "</table>\n",
       "</div>"
      ],
      "text/plain": [
       "   transaction_id  user_id género  linea_tc  interes_tc   monto     fecha  \\\n",
       "0               1      573      M     87000          56  581.03  02/01/20   \n",
       "1               2      737      F     34000          51  421.73  02/01/20   \n",
       "2               3      887      F     52000          38  399.55  02/01/20   \n",
       "3               4     1304      M     67000          60  828.01  02/01/20   \n",
       "4               5     1361      F     28000          52  886.04  02/01/20   \n",
       "5               6     1894      M     72000          53  736.88  02/01/20   \n",
       "\n",
       "   hora                                        dispositivo  \\\n",
       "0     0  {'año': 2019, 'marca': 'Apple', 'proveedor': '...   \n",
       "1     0  {'año': 2021, 'marca': 'Huawei', 'proveedor': ...   \n",
       "2     0  {'año': 2017, 'marca': 'Apple', 'proveedor': '...   \n",
       "3     0  {'año': 2019, 'marca': 'Samsung', 'proveedor':...   \n",
       "4     0  {'año': 2021, 'marca': 'Samsung', 'proveedor':...   \n",
       "5     0  {'año': 2020, 'marca': 'Motorola', 'proveedor'...   \n",
       "\n",
       "        establecimiento            ciudad  status_txn  is_prime  dcto  \\\n",
       "0              Farmacia  Ciudad de México    Aceptada     False   0.0   \n",
       "1  Tienda departamental            Cancún    Aceptada     False   0.0   \n",
       "2              Farmacia           Tijuana  En proceso     False   0.0   \n",
       "3  Tienda departamental  Ciudad de México  En proceso     False   0.0   \n",
       "4          Supermercado            Cancún    Aceptada     False   0.0   \n",
       "5              Farmacia  Ciudad de México  En proceso     False   0.0   \n",
       "\n",
       "   cashback  fraude  \n",
       "0     17.43   False  \n",
       "1     12.65   False  \n",
       "2     11.99   False  \n",
       "3     24.84   False  \n",
       "4     26.58   False  \n",
       "5     22.11   False  "
      ]
     },
     "execution_count": 4,
     "metadata": {},
     "output_type": "execute_result"
    }
   ],
   "source": [
    "## visualizamos los primeros registros\n",
    "data.head(6)"
   ]
  },
  {
   "cell_type": "code",
   "execution_count": 5,
   "id": "6984df55",
   "metadata": {},
   "outputs": [
    {
     "name": "stdout",
     "output_type": "stream",
     "text": [
      "<class 'pandas.core.frame.DataFrame'>\n",
      "RangeIndex: 26975 entries, 0 to 26974\n",
      "Data columns (total 16 columns):\n",
      " #   Column           Non-Null Count  Dtype  \n",
      "---  ------           --------------  -----  \n",
      " 0   transaction_id   26975 non-null  int64  \n",
      " 1   user_id          26975 non-null  int64  \n",
      " 2   género           26975 non-null  object \n",
      " 3   linea_tc         26975 non-null  int64  \n",
      " 4   interes_tc       26975 non-null  int64  \n",
      " 5   monto            26975 non-null  float64\n",
      " 6   fecha            26975 non-null  object \n",
      " 7   hora             26975 non-null  int64  \n",
      " 8   dispositivo      26975 non-null  object \n",
      " 9   establecimiento  24036 non-null  object \n",
      " 10  ciudad           26641 non-null  object \n",
      " 11  status_txn       26975 non-null  object \n",
      " 12  is_prime         26975 non-null  bool   \n",
      " 13  dcto             26975 non-null  float64\n",
      " 14  cashback         26975 non-null  float64\n",
      " 15  fraude           26975 non-null  bool   \n",
      "dtypes: bool(2), float64(3), int64(5), object(6)\n",
      "memory usage: 2.9+ MB\n"
     ]
    },
    {
     "data": {
      "text/plain": [
       "(       transaction_id       user_id      linea_tc    interes_tc         monto  \\\n",
       " count    26975.000000  26975.000000  26975.000000  26975.000000  26975.000000   \n",
       " mean     13488.000000   2003.765412  62476.811863     48.224875    513.796463   \n",
       " std       7787.156092   1144.630736  21886.892902      9.587256    290.342419   \n",
       " min          1.000000      0.000000  25000.000000     32.000000      1.000000   \n",
       " 25%       6744.500000   1041.000000  44000.000000     40.000000    300.490000   \n",
       " 50%      13488.000000   2006.000000  62000.000000     48.000000    506.380000   \n",
       " 75%      20231.500000   2973.500000  82000.000000     57.000000    716.515000   \n",
       " max      26975.000000   3999.000000  99000.000000     64.000000   1712.700000   \n",
       " \n",
       "                hora          dcto      cashback  \n",
       " count  26975.000000  26975.000000  26975.000000  \n",
       " mean      12.657498      5.369477     16.924524  \n",
       " std        5.657335     12.322335     10.893845  \n",
       " min        0.000000      0.000000      0.030000  \n",
       " 25%        9.000000      0.000000      9.495000  \n",
       " 50%       13.000000      0.000000     15.930000  \n",
       " 75%       17.000000      0.000000     22.830000  \n",
       " max       23.000000     85.640000    109.730000  ,\n",
       " None)"
      ]
     },
     "execution_count": 5,
     "metadata": {},
     "output_type": "execute_result"
    }
   ],
   "source": [
    "# Mostrar los campos y tipo de dato que contiene nuestro dataset\n",
    "data.describe(), data.info()"
   ]
  },
  {
   "cell_type": "markdown",
   "id": "b97d7616",
   "metadata": {},
   "source": [
    "#### Descripción de los campos que contiene nuestro Dataset\n",
    "\n",
    "\n",
    "**transaction_id**: ID de la transacción.\n",
    "\n",
    "**user_id**: ID del usuario.\n",
    "\n",
    "**linea_tc**: Límite de crédito.\n",
    "\n",
    "**interes_tc**: Tasa de interés.\n",
    "\n",
    "**monto**: Monto de la transacción.\n",
    "\n",
    "**fecha**: Fecha en que se realizó la transacción.\n",
    "\n",
    "**hora**: Hora de la transacción.\n",
    "\n",
    "**establecimiento**: Tipo de establecimiento donde se realizó la transacción.\n",
    "\n",
    "**ciudad**: Ciudad donde se realizó la transacción.\n",
    "\n",
    "**status_txn**: Estado de la transacción.\n",
    "\n",
    "**is_prime**: Indica si el usuario \"Prime\" (1 = sí, 0 = no).\n",
    "\n",
    "**dcto**: Descuento aplicado.\n",
    "\n",
    "**cashback**: Cashback generado.\n",
    "\n",
    "**fraude**: nuestra variable objetivo, la cual nos indica si es Fraudulento o no.\n",
    "\n",
    "\n",
    "Nos damos cuenta que el Dataset cuenta con 2,6975 registros con un total de 16 columanas con tipo de dato categoricos, numericos y booleano, a primera vista vemos que dos de nuestras columnas tiene varios nulos, y observamos los principales datos estadisticos para darnos cuenta de lo que contiene nuestro Dataset."
   ]
  },
  {
   "cell_type": "markdown",
   "id": "cc8ee15b",
   "metadata": {},
   "source": [
    "# 2. Indagamos un poco nuestro Dataset\n",
    "\n",
    "La idea de este punto es análizar un poco la información para saber prepar nuestros datos en un siguiente paso."
   ]
  },
  {
   "cell_type": "code",
   "execution_count": 6,
   "id": "c2cbe2d2",
   "metadata": {},
   "outputs": [
    {
     "data": {
      "text/plain": [
       "transaction_id        0\n",
       "user_id               0\n",
       "género                0\n",
       "linea_tc              0\n",
       "interes_tc            0\n",
       "monto                 0\n",
       "fecha                 0\n",
       "hora                  0\n",
       "dispositivo           0\n",
       "establecimiento    2939\n",
       "ciudad              334\n",
       "status_txn            0\n",
       "is_prime              0\n",
       "dcto                  0\n",
       "cashback              0\n",
       "fraude                0\n",
       "dtype: int64"
      ]
     },
     "execution_count": 6,
     "metadata": {},
     "output_type": "execute_result"
    }
   ],
   "source": [
    "# revisamos si tenemos valores nulos\n",
    "data.isna().sum()"
   ]
  },
  {
   "cell_type": "code",
   "execution_count": 7,
   "id": "6bb14105",
   "metadata": {},
   "outputs": [
    {
     "data": {
      "text/plain": [
       "False    26165\n",
       "True       810\n",
       "Name: fraude, dtype: int64"
      ]
     },
     "execution_count": 7,
     "metadata": {},
     "output_type": "execute_result"
    }
   ],
   "source": [
    "# Observamos que nuestro Dataset esta bastante desbalanceado\n",
    "cuenta_fraude = data['fraude'].value_counts()\n",
    "cuenta_fraude"
   ]
  },
  {
   "cell_type": "code",
   "execution_count": 8,
   "id": "0ce67a87",
   "metadata": {},
   "outputs": [
    {
     "data": {
      "text/plain": [
       "False    96.99722\n",
       "True      3.00278\n",
       "Name: fraude, dtype: float64"
      ]
     },
     "execution_count": 8,
     "metadata": {},
     "output_type": "execute_result"
    }
   ],
   "source": [
    "# Observamos que nuestro Dataset esta bastante desbalanceado\n",
    "avg_fraude = data['fraude'].value_counts(normalize=True) * 100\n",
    "avg_fraude"
   ]
  },
  {
   "cell_type": "code",
   "execution_count": 9,
   "id": "0a8e05b9",
   "metadata": {},
   "outputs": [
    {
     "data": {
      "image/png": "[encoded data removed]",
      "text/plain": [
       "<Figure size 640x480 with 1 Axes>"
      ]
     },
     "metadata": {},
     "output_type": "display_data"
    }
   ],
   "source": [
    "# revisamos si será relevante PRIME\n",
    "cuenta_prime = data['is_prime'].value_counts(normalize=True) * 100\n",
    "cuenta_prime\n",
    "# gráfica de barras\n",
    "cuenta_prime.plot.bar();"
   ]
  },
  {
   "cell_type": "code",
   "execution_count": 10,
   "id": "d8eed68e",
   "metadata": {},
   "outputs": [
    {
     "data": {
      "text/plain": [
       "M    12472\n",
       "F    12000\n",
       "N     2503\n",
       "Name: género, dtype: int64"
      ]
     },
     "execution_count": 10,
     "metadata": {},
     "output_type": "execute_result"
    }
   ],
   "source": [
    "# Revisamos como se muestra el Género\n",
    "cuenta_genero = data['género'].value_counts()\n",
    "cuenta_genero"
   ]
  },
  {
   "cell_type": "code",
   "execution_count": 11,
   "id": "73980b0c",
   "metadata": {},
   "outputs": [
    {
     "data": {
      "image/png": "[encoded data removed]",
      "text/plain": [
       "<Figure size 640x480 with 1 Axes>"
      ]
     },
     "metadata": {},
     "output_type": "display_data"
    }
   ],
   "source": [
    "# Distribución de la ciudad \n",
    "cuenta_ciudad = data['ciudad'].value_counts(normalize=True) * 100\n",
    "plt.pie(cuenta_ciudad, labels=cuenta_ciudad.index)\n",
    "plt.show();"
   ]
  },
  {
   "cell_type": "code",
   "execution_count": 12,
   "id": "d4e9ec87",
   "metadata": {},
   "outputs": [
    {
     "data": {
      "text/html": [
       "<div>\n",
       "<style scoped>\n",
       "    .dataframe tbody tr th:only-of-type {\n",
       "        vertical-align: middle;\n",
       "    }\n",
       "\n",
       "    .dataframe tbody tr th {\n",
       "        vertical-align: top;\n",
       "    }\n",
       "\n",
       "    .dataframe thead th {\n",
       "        text-align: right;\n",
       "    }\n",
       "</style>\n",
       "<table border=\"1\" class=\"dataframe\">\n",
       "  <thead>\n",
       "    <tr style=\"text-align: right;\">\n",
       "      <th></th>\n",
       "      <th>monto</th>\n",
       "      <th>cashback</th>\n",
       "      <th>interes_tc</th>\n",
       "    </tr>\n",
       "  </thead>\n",
       "  <tbody>\n",
       "    <tr>\n",
       "      <th>monto</th>\n",
       "      <td>1.000000</td>\n",
       "      <td>0.877533</td>\n",
       "      <td>0.008421</td>\n",
       "    </tr>\n",
       "    <tr>\n",
       "      <th>cashback</th>\n",
       "      <td>0.877533</td>\n",
       "      <td>1.000000</td>\n",
       "      <td>0.011794</td>\n",
       "    </tr>\n",
       "    <tr>\n",
       "      <th>interes_tc</th>\n",
       "      <td>0.008421</td>\n",
       "      <td>0.011794</td>\n",
       "      <td>1.000000</td>\n",
       "    </tr>\n",
       "  </tbody>\n",
       "</table>\n",
       "</div>"
      ],
      "text/plain": [
       "               monto  cashback  interes_tc\n",
       "monto       1.000000  0.877533    0.008421\n",
       "cashback    0.877533  1.000000    0.011794\n",
       "interes_tc  0.008421  0.011794    1.000000"
      ]
     },
     "execution_count": 12,
     "metadata": {},
     "output_type": "execute_result"
    }
   ],
   "source": [
    "# Correlación ( solo es un ejercicio con 3 variables)\n",
    "matrix_corr = data[['monto', 'cashback', 'interes_tc']].corr()\n",
    "matrix_corr"
   ]
  },
  {
   "cell_type": "code",
   "execution_count": 13,
   "id": "f501dc8b",
   "metadata": {},
   "outputs": [
    {
     "data": {
      "image/png": "[encoded data removed]",
      "text/plain": [
       "<Figure size 640x480 with 2 Axes>"
      ]
     },
     "metadata": {},
     "output_type": "display_data"
    }
   ],
   "source": [
    "# hacemos un plot de la correlación de nuestros campos\n",
    "import seaborn as sns\n",
    "sns.heatmap(matrix_corr, vmin=-1, vmax=1,\n",
    "           cmap=sns.diverging_palette(20,220, as_cmap=True));"
   ]
  },
  {
   "cell_type": "code",
   "execution_count": 14,
   "id": "f1092ce6",
   "metadata": {},
   "outputs": [
    {
     "name": "stdout",
     "output_type": "stream",
     "text": [
      "Tenemos 26975 muestras y 15 atributos\n"
     ]
    }
   ],
   "source": [
    "# exploramos cuantos muestras y atributos tenemos\n",
    "print(f'Tenemos {data.shape[0]} muestras y {data.shape[1]-1} atributos')"
   ]
  },
  {
   "cell_type": "code",
   "execution_count": 15,
   "id": "1f779472",
   "metadata": {},
   "outputs": [
    {
     "data": {
      "image/png": "[encoded data removed]",
      "text/plain": [
       "<Figure size 1000x700 with 9 Axes>"
      ]
     },
     "metadata": {},
     "output_type": "display_data"
    }
   ],
   "source": [
    "# seguimos explorando las variables con un histograma\n",
    "data.hist(bins=20, figsize=(10,7))\n",
    "plt.show()"
   ]
  },
  {
   "cell_type": "markdown",
   "id": "593543f5",
   "metadata": {},
   "source": [
    "**Nota** Esta eploración de los datos ayuda a entender mejor como vamos a procesar los dato y nos damos una idea de la consistencia de nuestra variable objetivo."
   ]
  },
  {
   "cell_type": "markdown",
   "id": "9584d9da",
   "metadata": {},
   "source": [
    "# 2. Preprocesamiento y Limpieza de Datos\n",
    "\n",
    "En esta parte limpiaremos y preprocesaremos los datos, lo cual incluye manejar valores faltantes, codificar variables categóricas y escalar los datos."
   ]
  },
  {
   "cell_type": "code",
   "execution_count": 16,
   "id": "8789fd8e",
   "metadata": {},
   "outputs": [],
   "source": [
    "# convertimos la variable fraude en númerico (donde 1 es true y 0 false)\n",
    "data['fraude'] = data['fraude'].astype(int)"
   ]
  },
  {
   "cell_type": "code",
   "execution_count": 17,
   "id": "5856fae4",
   "metadata": {},
   "outputs": [],
   "source": [
    "# convertimos la variable prime en numerico (donde 1 es true y 0 false)\n",
    "data['is_prime'] = data['is_prime'].astype(int)"
   ]
  },
  {
   "cell_type": "code",
   "execution_count": 18,
   "id": "ec3c6d1b",
   "metadata": {},
   "outputs": [],
   "source": [
    "# Manejo de valores faltantes\n",
    "data['establecimiento'].fillna('Desconocido', inplace=True)\n",
    "data['ciudad'].fillna('Desconocida', inplace=True)"
   ]
  },
  {
   "cell_type": "code",
   "execution_count": 19,
   "id": "4b121d50",
   "metadata": {},
   "outputs": [
    {
     "data": {
      "text/plain": [
       "transaction_id     0\n",
       "user_id            0\n",
       "género             0\n",
       "linea_tc           0\n",
       "interes_tc         0\n",
       "monto              0\n",
       "fecha              0\n",
       "hora               0\n",
       "dispositivo        0\n",
       "establecimiento    0\n",
       "ciudad             0\n",
       "status_txn         0\n",
       "is_prime           0\n",
       "dcto               0\n",
       "cashback           0\n",
       "fraude             0\n",
       "dtype: int64"
      ]
     },
     "execution_count": 19,
     "metadata": {},
     "output_type": "execute_result"
    }
   ],
   "source": [
    "# corroboramos que no haya faltantes\n",
    "data.isna().sum()"
   ]
  },
  {
   "cell_type": "code",
   "execution_count": 20,
   "id": "38f0417e",
   "metadata": {},
   "outputs": [],
   "source": [
    "# Redefinir \"N\" asignando aleatoriamente \"M\" y \"F\" de forma equitativa\n",
    "n_to_replace = cuenta_genero['N']\n",
    "m_f_distribution = ['M', 'F'] * (n_to_replace // 2) + [np.random.choice(['M', 'F'])] * (n_to_replace % 2)\n",
    "\n",
    "# Creamos una máscara donde género es 'N'\n",
    "mask = data['género'] == 'N'\n",
    "\n",
    "# Aplicamos la redistribución aleatoria sobre los elementos donde la máscara es True\n",
    "data.loc[mask, 'género'] = np.random.choice(m_f_distribution, size=n_to_replace, replace=False)\n"
   ]
  },
  {
   "cell_type": "markdown",
   "id": "b0f246e2",
   "metadata": {},
   "source": [
    "**Nota** La intensión con este metodo es asignar de forma aleatria las cuenta que vienene como \"N\"  del campo género, en algúna una categoría como M ó F."
   ]
  },
  {
   "cell_type": "code",
   "execution_count": 21,
   "id": "500e22ce",
   "metadata": {},
   "outputs": [],
   "source": [
    "# Convertir 'F' a 1 y 'M' a 0  ---- Generamos nueva columna y eliminamos la original\n",
    "data['género_bool'] = data['género'].map({'F': 1, 'M': 0})\n",
    "data.drop(columns='género', inplace=True)  # Eliminar la columna original"
   ]
  },
  {
   "cell_type": "markdown",
   "id": "5c06e876",
   "metadata": {},
   "source": [
    "Posterior hacer el cambio de M y F a númerico. donde F=1 y M=0"
   ]
  },
  {
   "cell_type": "code",
   "execution_count": 22,
   "id": "782f2dee",
   "metadata": {},
   "outputs": [
    {
     "data": {
      "text/plain": [
       "0    50.873031\n",
       "1    49.126969\n",
       "Name: género_bool, dtype: float64"
      ]
     },
     "execution_count": 22,
     "metadata": {},
     "output_type": "execute_result"
    }
   ],
   "source": [
    "# Validamos nuevo campo de Género\n",
    "cuenta_fraude_bool = data['género_bool'].value_counts(normalize=True) * 100\n",
    "cuenta_fraude_bool"
   ]
  },
  {
   "cell_type": "code",
   "execution_count": 23,
   "id": "46b828b8",
   "metadata": {},
   "outputs": [
    {
     "name": "stdout",
     "output_type": "stream",
     "text": [
      "<class 'pandas.core.frame.DataFrame'>\n",
      "RangeIndex: 26975 entries, 0 to 26974\n",
      "Data columns (total 16 columns):\n",
      " #   Column           Non-Null Count  Dtype  \n",
      "---  ------           --------------  -----  \n",
      " 0   transaction_id   26975 non-null  int64  \n",
      " 1   user_id          26975 non-null  int64  \n",
      " 2   linea_tc         26975 non-null  int64  \n",
      " 3   interes_tc       26975 non-null  int64  \n",
      " 4   monto            26975 non-null  float64\n",
      " 5   fecha            26975 non-null  object \n",
      " 6   hora             26975 non-null  int64  \n",
      " 7   dispositivo      26975 non-null  object \n",
      " 8   establecimiento  26975 non-null  object \n",
      " 9   ciudad           26975 non-null  object \n",
      " 10  status_txn       26975 non-null  object \n",
      " 11  is_prime         26975 non-null  int32  \n",
      " 12  dcto             26975 non-null  float64\n",
      " 13  cashback         26975 non-null  float64\n",
      " 14  fraude           26975 non-null  int32  \n",
      " 15  género_bool      26975 non-null  int64  \n",
      "dtypes: float64(3), int32(2), int64(6), object(5)\n",
      "memory usage: 3.1+ MB\n"
     ]
    },
    {
     "data": {
      "text/plain": [
       "(       transaction_id       user_id      linea_tc    interes_tc         monto  \\\n",
       " count    26975.000000  26975.000000  26975.000000  26975.000000  26975.000000   \n",
       " mean     13488.000000   2003.765412  62476.811863     48.224875    513.796463   \n",
       " std       7787.156092   1144.630736  21886.892902      9.587256    290.342419   \n",
       " min          1.000000      0.000000  25000.000000     32.000000      1.000000   \n",
       " 25%       6744.500000   1041.000000  44000.000000     40.000000    300.490000   \n",
       " 50%      13488.000000   2006.000000  62000.000000     48.000000    506.380000   \n",
       " 75%      20231.500000   2973.500000  82000.000000     57.000000    716.515000   \n",
       " max      26975.000000   3999.000000  99000.000000     64.000000   1712.700000   \n",
       " \n",
       "                hora      is_prime          dcto      cashback        fraude  \\\n",
       " count  26975.000000  26975.000000  26975.000000  26975.000000  26975.000000   \n",
       " mean      12.657498      0.131937      5.369477     16.924524      0.030028   \n",
       " std        5.657335      0.338429     12.322335     10.893845      0.170667   \n",
       " min        0.000000      0.000000      0.000000      0.030000      0.000000   \n",
       " 25%        9.000000      0.000000      0.000000      9.495000      0.000000   \n",
       " 50%       13.000000      0.000000      0.000000     15.930000      0.000000   \n",
       " 75%       17.000000      0.000000      0.000000     22.830000      0.000000   \n",
       " max       23.000000      1.000000     85.640000    109.730000      1.000000   \n",
       " \n",
       "         género_bool  \n",
       " count  26975.000000  \n",
       " mean       0.491270  \n",
       " std        0.499933  \n",
       " min        0.000000  \n",
       " 25%        0.000000  \n",
       " 50%        0.000000  \n",
       " 75%        1.000000  \n",
       " max        1.000000  ,\n",
       " None)"
      ]
     },
     "execution_count": 23,
     "metadata": {},
     "output_type": "execute_result"
    }
   ],
   "source": [
    "# Mostrar las primeras filas y un resumen de los datos\n",
    "data.describe(), data.info()"
   ]
  },
  {
   "cell_type": "code",
   "execution_count": 24,
   "id": "a46d6d03",
   "metadata": {},
   "outputs": [],
   "source": [
    "# Transformar la columna 'dispositivo' que contiene JSON\n",
    "def extract_device_info(device_str):\n",
    "    try:\n",
    "        return json.loads(device_str.replace(\"'\", \"\\\"\"))\n",
    "    except json.JSONDecodeError:\n",
    "        return {'año': None, 'marca': 'Desconocido', 'proveedor': 'Desconocido'}"
   ]
  },
  {
   "cell_type": "code",
   "execution_count": 25,
   "id": "548869c8",
   "metadata": {},
   "outputs": [],
   "source": [
    "# Aplicar la función de extracción y expandir en columnas separadas\n",
    "device_info = data['dispositivo'].apply(extract_device_info)\n",
    "device_df = pd.json_normalize(device_info)\n",
    "device_df.columns = ['dispositivo_' + col for col in device_df.columns]\n",
    "data = pd.concat([data, device_df], axis=1)\n",
    "data.drop(columns='dispositivo', inplace=True)  # Se elimina la columna original"
   ]
  },
  {
   "cell_type": "markdown",
   "id": "88e55e48",
   "metadata": {},
   "source": [
    "Lo que hacemos es un parseo de las columnas que se encontraban dentro del JSON \"dispositivo\""
   ]
  },
  {
   "cell_type": "code",
   "execution_count": 26,
   "id": "f198d766",
   "metadata": {},
   "outputs": [
    {
     "name": "stdout",
     "output_type": "stream",
     "text": [
      "<class 'pandas.core.frame.DataFrame'>\n",
      "RangeIndex: 26975 entries, 0 to 26974\n",
      "Data columns (total 18 columns):\n",
      " #   Column                 Non-Null Count  Dtype  \n",
      "---  ------                 --------------  -----  \n",
      " 0   transaction_id         26975 non-null  int64  \n",
      " 1   user_id                26975 non-null  int64  \n",
      " 2   linea_tc               26975 non-null  int64  \n",
      " 3   interes_tc             26975 non-null  int64  \n",
      " 4   monto                  26975 non-null  float64\n",
      " 5   fecha                  26975 non-null  object \n",
      " 6   hora                   26975 non-null  int64  \n",
      " 7   establecimiento        26975 non-null  object \n",
      " 8   ciudad                 26975 non-null  object \n",
      " 9   status_txn             26975 non-null  object \n",
      " 10  is_prime               26975 non-null  int32  \n",
      " 11  dcto                   26975 non-null  float64\n",
      " 12  cashback               26975 non-null  float64\n",
      " 13  fraude                 26975 non-null  int32  \n",
      " 14  género_bool            26975 non-null  int64  \n",
      " 15  dispositivo_año        26975 non-null  int64  \n",
      " 16  dispositivo_marca      26975 non-null  object \n",
      " 17  dispositivo_proveedor  26975 non-null  object \n",
      "dtypes: float64(3), int32(2), int64(7), object(6)\n",
      "memory usage: 3.5+ MB\n"
     ]
    }
   ],
   "source": [
    "# Validamos como quedaron parseados nuestros nuevos campos\n",
    "data.info()"
   ]
  },
  {
   "cell_type": "code",
   "execution_count": 27,
   "id": "130efeb1",
   "metadata": {},
   "outputs": [
    {
     "data": {
      "text/plain": [
       "Samsung     33.341983\n",
       "Motorola    24.014829\n",
       "Huawei      23.443930\n",
       "Apple       19.199259\n",
       "Name: dispositivo_marca, dtype: float64"
      ]
     },
     "execution_count": 27,
     "metadata": {},
     "output_type": "execute_result"
    }
   ],
   "source": [
    "# Distribución de Marca del dispositivo \n",
    "cuenta_dis_marca = data['dispositivo_marca'].value_counts(normalize=True) * 100\n",
    "cuenta_dis_marca"
   ]
  },
  {
   "cell_type": "code",
   "execution_count": 28,
   "id": "16ba9246",
   "metadata": {},
   "outputs": [
    {
     "data": {
      "text/plain": [
       "Telcel      47.503244\n",
       "ATT         32.100093\n",
       "Movistar    20.396664\n",
       "Name: dispositivo_proveedor, dtype: float64"
      ]
     },
     "execution_count": 28,
     "metadata": {},
     "output_type": "execute_result"
    }
   ],
   "source": [
    "# Distribución de Proveedor del dispositivo \n",
    "cuenta_dis_prove = data['dispositivo_proveedor'].value_counts(normalize=True) * 100\n",
    "cuenta_dis_prove"
   ]
  },
  {
   "cell_type": "code",
   "execution_count": 29,
   "id": "78fe438b",
   "metadata": {},
   "outputs": [
    {
     "data": {
      "text/plain": [
       "2020    22.113068\n",
       "2019    19.903614\n",
       "2021    16.448563\n",
       "2018    14.702502\n",
       "2017    10.194625\n",
       "2016     6.168675\n",
       "2015     4.659870\n",
       "2022     3.036145\n",
       "2014     1.597776\n",
       "2013     0.741427\n",
       "2012     0.407785\n",
       "2011     0.025950\n",
       "Name: dispositivo_año, dtype: float64"
      ]
     },
     "execution_count": 29,
     "metadata": {},
     "output_type": "execute_result"
    }
   ],
   "source": [
    "# Distribución del Año del dispositivo \n",
    "cuenta_dis_anio = data['dispositivo_año'].value_counts(normalize=True) * 100\n",
    "cuenta_dis_anio"
   ]
  },
  {
   "cell_type": "code",
   "execution_count": 30,
   "id": "e7615c0d",
   "metadata": {},
   "outputs": [],
   "source": [
    "# convertir a fecha y hora, así como convertir a númerico\n",
    "data['fecha'] = pd.to_datetime(data['fecha'], format='%d/%m/%y')\n",
    "data['year'] = data['fecha'].dt.year\n",
    "data['month'] = data['fecha'].dt.month\n",
    "data['day'] = data['fecha'].dt.day"
   ]
  },
  {
   "cell_type": "code",
   "execution_count": 31,
   "id": "0474c9f2",
   "metadata": {},
   "outputs": [],
   "source": [
    "# Eliminamos campo original de fecha\n",
    "data.drop('fecha', axis=1, inplace=True)"
   ]
  },
  {
   "cell_type": "code",
   "execution_count": 32,
   "id": "ceefd44d",
   "metadata": {},
   "outputs": [
    {
     "name": "stderr",
     "output_type": "stream",
     "text": [
      "C:\\Users\\AlbertoMorales\\AppData\\Local\\Temp\\ipykernel_34808\\3486276412.py:2: FutureWarning: Dropping of nuisance columns in DataFrame reductions (with 'numeric_only=None') is deprecated; in a future version this will raise TypeError.  Select only valid columns before calling the reduction.\n",
      "  data.fillna(data.mean(), inplace=True)  # Para numericos\n"
     ]
    }
   ],
   "source": [
    "# Manejar los valores faltantes con la media y Unknown\n",
    "data.fillna(data.mean(), inplace=True)  # Para numericos\n",
    "data.fillna('Unknown', inplace=True)  # para categoricos"
   ]
  },
  {
   "cell_type": "markdown",
   "id": "ae248df8",
   "metadata": {},
   "source": [
    "**Propósito de línea anterior**: Rellenar cualquier valor faltante en columnas categóricas con la cadena 'Unknown' y rellenar cualquier valor faltante en columnas numéricas con el promedio de esa columna. \n",
    "nos será útil y ayuda a las buenas practicas del modelo."
   ]
  },
  {
   "cell_type": "code",
   "execution_count": 33,
   "id": "62d50217",
   "metadata": {},
   "outputs": [],
   "source": [
    "# Codificación de variables categóricas usando LabelEncoder\n",
    "label_encoders = {}\n",
    "categorical_columns = ['establecimiento', 'ciudad', 'status_txn', 'dispositivo_marca', 'dispositivo_proveedor']\n",
    "for column in categorical_columns:\n",
    "    le = LabelEncoder()\n",
    "    data[column] = le.fit_transform(data[column])\n",
    "    label_encoders[column] = le"
   ]
  },
  {
   "cell_type": "markdown",
   "id": "54b462b6",
   "metadata": {},
   "source": [
    "**Objetivo de la línea anterior**: Convertir valores categóricos en valores numéricos int. Esto nos ayudará a procesar mucho mejor nuestro modelo."
   ]
  },
  {
   "cell_type": "code",
   "execution_count": 34,
   "id": "184df525",
   "metadata": {},
   "outputs": [],
   "source": [
    "# Selección de funciones (todas las columnas relevantes, excepto el objetivo y los identificadores únicos)\n",
    "features = data.drop(['fraude', 'transaction_id', 'user_id'], axis=1)\n",
    "target = data['fraude']\n"
   ]
  },
  {
   "cell_type": "markdown",
   "id": "35fbad62",
   "metadata": {},
   "source": [
    "**Porpósito de línea anterior**: es exluir transaction_id, user_id ya que los identificadores únicos no son relevantes para nuestro modelo."
   ]
  },
  {
   "cell_type": "code",
   "execution_count": 35,
   "id": "31074fd7",
   "metadata": {},
   "outputs": [],
   "source": [
    "# Estandarización de las características \n",
    "scaler = StandardScaler()\n",
    "features_scaled = scaler.fit_transform(features)\n"
   ]
  },
  {
   "cell_type": "markdown",
   "id": "8c88fbe6",
   "metadata": {},
   "source": [
    "**Objetivo de la líne anterior**: Normalizar la Escala de los Datos"
   ]
  },
  {
   "cell_type": "markdown",
   "id": "3af719ac",
   "metadata": {},
   "source": [
    "# 3. División del conjunto de datos\n",
    "\n",
    "Probaremos con la técnica **train_test_split** para dividir nuestro conjunto con el 20% prueba y el 80% restante para entrenamiento."
   ]
  },
  {
   "cell_type": "code",
   "execution_count": 36,
   "id": "082f6d04",
   "metadata": {},
   "outputs": [
    {
     "data": {
      "text/plain": [
       "((21580, 17), (5395, 17), (21580,), (5395,))"
      ]
     },
     "execution_count": 36,
     "metadata": {},
     "output_type": "execute_result"
    }
   ],
   "source": [
    "# Dividir datos en conjuntos de testing sets again\n",
    "X_train, X_test, y_train, y_test = train_test_split(features_scaled, target, test_size=0.2, random_state=42)\n",
    "\n",
    "X_train.shape, X_test.shape, y_train.shape, y_test.shape"
   ]
  },
  {
   "cell_type": "code",
   "execution_count": 37,
   "id": "53748b1d",
   "metadata": {},
   "outputs": [
    {
     "data": {
      "text/plain": [
       "(80.0, 20.0)"
      ]
     },
     "execution_count": 37,
     "metadata": {},
     "output_type": "execute_result"
    }
   ],
   "source": [
    "# validar porcentajes para el conjunto de entrenamiento y prueba\n",
    "train_percentage = (len(X_train) / len(features_scaled)) * 100\n",
    "test_percentage = (len(X_test) / len(features_scaled)) * 100\n",
    "\n",
    "train_percentage, test_percentage"
   ]
  },
  {
   "cell_type": "markdown",
   "id": "f0d5baa4",
   "metadata": {},
   "source": [
    "Hemos dividido en conjuntos de entrenamiento y prueba. Tenemos 21,580 muestras para el entrenamiento y 5,395 muestras para las pruebas, cada una con 17 características."
   ]
  },
  {
   "cell_type": "markdown",
   "id": "cf9dbe72",
   "metadata": {},
   "source": [
    "# 4. Construcción y evaluación del modelo \n",
    "Vamos a construir el modelo utilizando la Regresión Logística, entrenarlo con el conjunto de entrenamiento y luego evaluarlo con el conjunto de prueba."
   ]
  },
  {
   "cell_type": "markdown",
   "id": "11b42a8a",
   "metadata": {},
   "source": [
    "### Usaré Validación cruzada cross_val_score para evaluar precisión del modelo (*hasta este punto*)\n",
    "\n",
    "Esta función evalúa un puntaje utilizando la validación cruzada. el objetivo estener una mejor idea del rendimiento esperado como punto de partida del modelo."
   ]
  },
  {
   "cell_type": "code",
   "execution_count": 38,
   "id": "ee9d1796",
   "metadata": {},
   "outputs": [
    {
     "data": {
      "text/plain": [
       "LogisticRegression(random_state=42)"
      ]
     },
     "execution_count": 38,
     "metadata": {},
     "output_type": "execute_result"
    }
   ],
   "source": [
    "# Crear una instancia del modelo de regresión logística\n",
    "model = LogisticRegression(random_state=42)\n",
    "model.fit(X_train, y_train)"
   ]
  },
  {
   "cell_type": "code",
   "execution_count": 39,
   "id": "aeae31fc",
   "metadata": {},
   "outputs": [],
   "source": [
    "# Configurar K-fold cross-validation en 5 pliegues asegurando una distribución aleatoria\n",
    "kf = StratifiedKFold(n_splits=5, shuffle=True, random_state=42)"
   ]
  },
  {
   "cell_type": "code",
   "execution_count": 40,
   "id": "35fa2ff2",
   "metadata": {},
   "outputs": [],
   "source": [
    "# Ejecutar la validación cruzada\n",
    "scores = cross_val_score(model, X_train, y_train, cv=kf, scoring='accuracy')"
   ]
  },
  {
   "cell_type": "code",
   "execution_count": 41,
   "id": "c3d2e952",
   "metadata": {},
   "outputs": [
    {
     "data": {
      "text/plain": [
       "((5,), (21580, 17), (21580,))"
      ]
     },
     "execution_count": 41,
     "metadata": {},
     "output_type": "execute_result"
    }
   ],
   "source": [
    " scores.shape, X_train.shape, y_train.shape"
   ]
  },
  {
   "cell_type": "code",
   "execution_count": 42,
   "id": "7c4b5258",
   "metadata": {},
   "outputs": [
    {
     "name": "stdout",
     "output_type": "stream",
     "text": [
      "Accuracy de cada pliegue:  [0.96895273 0.96918443 0.96941613 0.96918443 0.96918443]\n",
      "Accuracy promedio:  0.9691844300278035\n"
     ]
    }
   ],
   "source": [
    "# Imprimir los resultados de la validación cruzada\n",
    "print(\"Accuracy de cada pliegue: \", scores)\n",
    "print(\"Accuracy promedio: \", scores.mean())"
   ]
  },
  {
   "cell_type": "markdown",
   "id": "c53ee6a9",
   "metadata": {},
   "source": [
    "### Conclusión de los Resultados\n",
    "\n",
    "Alta Precisión Promedio con un Accuracy aproximadamente 96.91% esto puede ser engañoso y muy peligroso por los falsos positivos y sobre todo el desbalanceo que tenemos en el Dataset. Vamos a seguir análizando"
   ]
  },
  {
   "cell_type": "markdown",
   "id": "28ba3d2b",
   "metadata": {},
   "source": [
    "### Validación Cruzada con cross_val_predict\n",
    "\n",
    "Con los resultados *cross_val_score* ahora útilizaremos la técnica de *cross_val_predict* para el conjunto de entrenamiento, esto nos ayudará a a ver como se comporta el modelo con partes no vistas del conjunto de entrenamiento.\n",
    "\n",
    "La idea es obtener predicciones de cada instancia en el conjunto de datos cuando era parte del conjunto de prueba en la validación cruzada"
   ]
  },
  {
   "cell_type": "code",
   "execution_count": 43,
   "id": "d094dce1",
   "metadata": {},
   "outputs": [],
   "source": [
    "# Obtener predicciones mediante validación cruzada\n",
    "y_pred_cv = cross_val_predict(model, X_train, y_train, cv=5)\n",
    "cm = confusion_matrix(y_train, y_pred_cv)"
   ]
  },
  {
   "cell_type": "code",
   "execution_count": 44,
   "id": "80bbd4a0",
   "metadata": {},
   "outputs": [
    {
     "data": {
      "image/png": "[encoded data removed]",
      "text/plain": [
       "<Figure size 800x600 with 2 Axes>"
      ]
     },
     "metadata": {},
     "output_type": "display_data"
    }
   ],
   "source": [
    "# Graficar la matriz de confusión\n",
    "plt.figure(figsize=(8, 6))\n",
    "sns.heatmap(cm, annot=True, fmt=\"d\", linewidths=.5)\n",
    "plt.xlabel('Predicted labels')\n",
    "plt.ylabel('True labels')\n",
    "plt.title('Confusion Matrix')\n",
    "plt.show()"
   ]
  },
  {
   "cell_type": "markdown",
   "id": "f8a7b0f8",
   "metadata": {},
   "source": [
    "Verdaderos Negativos (TN): 20,910\n",
    "\n",
    "El modelo predijo correctamente la clase de no fraude en 20,910 casos.\n",
    "\n",
    "Falsos Positivos (FP): 11\n",
    "\n",
    "El modelo predijo incorrectamente que 11 transacciones no fraudulentas eran fraudulentas.\n",
    "\n",
    "Falsos Negativos (FN): 655\n",
    "\n",
    "El modelo no detectó 655 transacciones fraudulentas, clasificándolas erróneamente como no fraudulentas.\n",
    "\n",
    "Verdaderos Positivos (VP): 4\n",
    "\n",
    "Solo 4 transacciones fraudulentas fueron correctamente identificadas como tales.\n",
    "\n",
    "\n",
    "Con estos resultados observamos que el modelo no esta siendo favorable y debemos corregir el desbalance "
   ]
  },
  {
   "cell_type": "markdown",
   "id": "7ebe56dc",
   "metadata": {},
   "source": [
    "### Balanceo de Clases\n",
    "\n",
    "Con el parametro *class_weight='balanced* trato de ajustar los pesos de las clases, entrenando al modelo ponderado en el conjunto de datos de entrenamiento. "
   ]
  },
  {
   "cell_type": "code",
   "execution_count": 45,
   "id": "9c8ef0f5",
   "metadata": {},
   "outputs": [
    {
     "data": {
      "text/plain": [
       "LogisticRegression(class_weight='balanced', random_state=42)"
      ]
     },
     "execution_count": 45,
     "metadata": {},
     "output_type": "execute_result"
    }
   ],
   "source": [
    "# Modelo con ponderación de clases\n",
    "logistic_model_balanced = LogisticRegression(random_state=42, class_weight='balanced')\n",
    "logistic_model_balanced.fit(X_train, y_train)"
   ]
  },
  {
   "cell_type": "code",
   "execution_count": 46,
   "id": "d95b73cc",
   "metadata": {},
   "outputs": [],
   "source": [
    "# Predecir en el conjunto de prueba\n",
    "y_pred = logistic_model_balanced.predict(X_test)"
   ]
  },
  {
   "cell_type": "code",
   "execution_count": 47,
   "id": "a6fa8416",
   "metadata": {},
   "outputs": [
    {
     "data": {
      "text/plain": [
       "('              precision    recall  f1-score   support\\n\\n           0       0.99      0.71      0.83      5244\\n           1       0.06      0.63      0.11       151\\n\\n    accuracy                           0.71      5395\\n   macro avg       0.52      0.67      0.47      5395\\nweighted avg       0.96      0.71      0.81      5395\\n',\n",
       " array([[3736, 1508],\n",
       "        [  56,   95]], dtype=int64))"
      ]
     },
     "execution_count": 47,
     "metadata": {},
     "output_type": "execute_result"
    }
   ],
   "source": [
    "# Evaluar el modelo\n",
    "evaluation_report = classification_report(y_test, y_pred)\n",
    "conf_matrix = confusion_matrix(y_test, y_pred)\n",
    "\n",
    "evaluation_report, conf_matrix"
   ]
  },
  {
   "cell_type": "code",
   "execution_count": 48,
   "id": "f75ef53e",
   "metadata": {},
   "outputs": [
    {
     "name": "stdout",
     "output_type": "stream",
     "text": [
      "              precision    recall  f1-score   support\n",
      "\n",
      "           0       0.99      0.71      0.83      5244\n",
      "           1       0.06      0.63      0.11       151\n",
      "\n",
      "    accuracy                           0.71      5395\n",
      "   macro avg       0.52      0.67      0.47      5395\n",
      "weighted avg       0.96      0.71      0.81      5395\n",
      "\n"
     ]
    }
   ],
   "source": [
    "print(evaluation_report)"
   ]
  },
  {
   "cell_type": "code",
   "execution_count": 49,
   "id": "20ecbcf9",
   "metadata": {},
   "outputs": [
    {
     "data": {
      "image/png": "[encoded data removed]",
      "text/plain": [
       "<Figure size 800x600 with 2 Axes>"
      ]
     },
     "metadata": {},
     "output_type": "display_data"
    }
   ],
   "source": [
    "# Obtener predicciones mediante validación cruzada\n",
    "y_pred_bal = cross_val_predict(logistic_model_balanced, X_train, y_train, cv=5)\n",
    "cm = confusion_matrix(y_test, y_pred)\n",
    "\n",
    "# Graficar la matriz de confusión\n",
    "plt.figure(figsize=(8, 6))\n",
    "sns.heatmap(cm, annot=True, fmt=\"d\", linewidths=.5)\n",
    "plt.xlabel('Predicted labels')\n",
    "plt.ylabel('True labels')\n",
    "plt.title('Confusion Matrix')\n",
    "plt.show()"
   ]
  },
  {
   "cell_type": "markdown",
   "id": "9a3327d3",
   "metadata": {},
   "source": [
    "#### Conclusión de balanceo\n",
    "\n",
    "Desbalance en el Recall: Aunque el modelo tiene una alta tasa de detección de fraudes (recall para la clase 1), también tiene un alto porcentaje de falsos positivos (baja precisión para la clase 1).\n",
    "\n",
    "#### Matriz de Confusión\n",
    "\n",
    "Verdaderos Negativos (3734): Número de no fraudes correctamente identificados.\n",
    "\n",
    "Falsos Positivos (1510): Número de no fraudes incorrectamente identificados como fraude.\n",
    "\n",
    "Falsos Negativos (55): Número de fraudes que no se detectaron.\n",
    "\n",
    "Verdaderos Positivos (96): Número de fraudes correctamente identificados."
   ]
  },
  {
   "cell_type": "markdown",
   "id": "8ab6d2d3",
   "metadata": {},
   "source": [
    "### Aplicamos técnica SMOTE (Synthetic Minority Over-sampling Technique)\n",
    "\n",
    "El objetivo es resolver el desbalance que hemos estado viendo, atacando la clase menor\n"
   ]
  },
  {
   "cell_type": "code",
   "execution_count": 50,
   "id": "03de94f9",
   "metadata": {},
   "outputs": [],
   "source": [
    "from imblearn.over_sampling import SMOTE\n"
   ]
  },
  {
   "cell_type": "code",
   "execution_count": 51,
   "id": "46b582d8",
   "metadata": {},
   "outputs": [],
   "source": [
    "# inicia SMOTE\n",
    "smote = SMOTE(random_state=42)"
   ]
  },
  {
   "cell_type": "code",
   "execution_count": 52,
   "id": "64845c9a",
   "metadata": {},
   "outputs": [],
   "source": [
    "# aplicamos SMOTE al conjunto train\n",
    "X_train_smote, y_train_smote = smote.fit_resample(X_train, y_train)"
   ]
  },
  {
   "cell_type": "code",
   "execution_count": 53,
   "id": "0712b667",
   "metadata": {},
   "outputs": [],
   "source": [
    "# nueva distribución de clases\n",
    "class_distribution_smote = pd.Series(y_train_smote).value_counts()"
   ]
  },
  {
   "cell_type": "code",
   "execution_count": 54,
   "id": "ab0419a4",
   "metadata": {},
   "outputs": [
    {
     "data": {
      "text/plain": [
       "LogisticRegression(random_state=42)"
      ]
     },
     "execution_count": 54,
     "metadata": {},
     "output_type": "execute_result"
    }
   ],
   "source": [
    "# Entrenar el modelo con SMOTE\n",
    "logistic_model_smote = LogisticRegression(random_state=42)\n",
    "logistic_model_smote.fit(X_train_smote, y_train_smote)"
   ]
  },
  {
   "cell_type": "code",
   "execution_count": 55,
   "id": "618e2019",
   "metadata": {},
   "outputs": [],
   "source": [
    "# predecir en conjunto de prueba\n",
    "y_pred_smote = logistic_model_smote.predict(X_test)"
   ]
  },
  {
   "cell_type": "code",
   "execution_count": 56,
   "id": "8768b965",
   "metadata": {},
   "outputs": [],
   "source": [
    "# Evaluar SMOTE\n",
    "evaluation_report_smote = classification_report(y_test, y_pred_smote)\n",
    "conf_matrix_smote = confusion_matrix(y_test, y_pred_smote)"
   ]
  },
  {
   "cell_type": "code",
   "execution_count": 57,
   "id": "528ba64b",
   "metadata": {},
   "outputs": [
    {
     "data": {
      "text/plain": [
       "(0    20921\n",
       " 1    20921\n",
       " Name: fraude, dtype: int64,\n",
       " '              precision    recall  f1-score   support\\n\\n           0       0.99      0.71      0.82      5244\\n           1       0.06      0.64      0.11       151\\n\\n    accuracy                           0.70      5395\\n   macro avg       0.52      0.67      0.46      5395\\nweighted avg       0.96      0.70      0.80      5395\\n',\n",
       " array([[3702, 1542],\n",
       "        [  55,   96]], dtype=int64))"
      ]
     },
     "execution_count": 57,
     "metadata": {},
     "output_type": "execute_result"
    }
   ],
   "source": [
    "class_distribution_smote, evaluation_report_smote, conf_matrix_smote"
   ]
  },
  {
   "cell_type": "code",
   "execution_count": 58,
   "id": "3acd2475",
   "metadata": {},
   "outputs": [
    {
     "name": "stdout",
     "output_type": "stream",
     "text": [
      "0    20921\n",
      "1    20921\n",
      "Name: fraude, dtype: int64\n"
     ]
    }
   ],
   "source": [
    "# Valido distribusión \n",
    "print(class_distribution_smote)"
   ]
  },
  {
   "cell_type": "code",
   "execution_count": 59,
   "id": "f42c551d",
   "metadata": {},
   "outputs": [
    {
     "name": "stdout",
     "output_type": "stream",
     "text": [
      "              precision    recall  f1-score   support\n",
      "\n",
      "           0       0.99      0.71      0.82      5244\n",
      "           1       0.06      0.64      0.11       151\n",
      "\n",
      "    accuracy                           0.70      5395\n",
      "   macro avg       0.52      0.67      0.46      5395\n",
      "weighted avg       0.96      0.70      0.80      5395\n",
      "\n"
     ]
    }
   ],
   "source": [
    "# Resultado SMOTE\n",
    "print(evaluation_report_smote)"
   ]
  },
  {
   "cell_type": "code",
   "execution_count": 60,
   "id": "8b7d6233",
   "metadata": {},
   "outputs": [
    {
     "name": "stdout",
     "output_type": "stream",
     "text": [
      "[[3702 1542]\n",
      " [  55   96]]\n"
     ]
    }
   ],
   "source": [
    "print(conf_matrix_smote)"
   ]
  },
  {
   "cell_type": "code",
   "execution_count": 61,
   "id": "674dd20b",
   "metadata": {},
   "outputs": [
    {
     "data": {
      "image/png": "[encoded data removed]",
      "text/plain": [
       "<Figure size 800x600 with 2 Axes>"
      ]
     },
     "metadata": {},
     "output_type": "display_data"
    }
   ],
   "source": [
    "# Obtener predicciones mediante validación cruzada\n",
    "y_pred_bal = cross_val_predict(logistic_model_smote, X_train, y_train, cv=5)\n",
    "cm = confusion_matrix(y_test, y_pred_smote)\n",
    "\n",
    "# Graficar la matriz de confusión\n",
    "plt.figure(figsize=(8, 6))\n",
    "sns.heatmap(cm, annot=True, fmt=\"d\", linewidths=.5)\n",
    "plt.xlabel('Predicted labels')\n",
    "plt.ylabel('True labels')\n",
    "plt.title('Confusion Matrix')\n",
    "plt.show()"
   ]
  },
  {
   "cell_type": "markdown",
   "id": "9a7260c9",
   "metadata": {},
   "source": [
    "### Conclusiones al usar SMOTE\n",
    "\n",
    "##### Clase 0 (No Fraude)\n",
    "\n",
    "Precisión: Alta (99%), lo que significa que cuando el modelo predice que una transacción no es fraude, casi siempre es correcto.\n",
    "\n",
    "Recall del 70% las no fraudulentas se están clasificando erróneamente como fraudulentas falsos positivos.\n",
    "\n",
    "F1-Score: Moderado (0.82), reflejando el desequilibrio entre precisión y recall.\n",
    "\n",
    "##### Clase 1 (Fraude)\n",
    "\n",
    "Precisión: Baja (6%), lo que implica que de todas las transacciones que el modelo identifica como fraudulentas, solo un pequeño porcentaje lo son realmente.\n",
    "\n",
    "**Recall: Alto (63%)**, lo cual es positivo ya que muestra que el modelo puede identificar una gran proporción de todas las cuentas fraudulentas reales.\n",
    "\n",
    "F1-Score: Bajo (0.11), afectado por la baja precisión."
   ]
  },
  {
   "cell_type": "markdown",
   "id": "e8665dfc",
   "metadata": {},
   "source": [
    "#### Precision-Recall para SMOTE\n",
    "\n",
    "Las métricas de rendimiento no siempre capturan completamente la calidad del modelo, especialmente en conjuntos de datos desequilibrados. calculamos la curva ROC (Receiver Operating Characteristic) y el área bajo la curva (AUC) para obtener una medida más clara de la capacidad del modelo para distinguir entre las clases."
   ]
  },
  {
   "cell_type": "code",
   "execution_count": 62,
   "id": "4234ffcc",
   "metadata": {},
   "outputs": [
    {
     "data": {
      "image/png": "[encoded data removed]",
      "text/plain": [
       "<Figure size 800x600 with 1 Axes>"
      ]
     },
     "metadata": {},
     "output_type": "display_data"
    }
   ],
   "source": [
    "from sklearn.metrics import precision_recall_curve\n",
    "\n",
    "precisions, recalls, thresholds = precision_recall_curve(y_test, y_pred_smote)\n",
    "\n",
    "# Graficar la curva Precision-Recall\n",
    "plt.figure(figsize=(8, 6))\n",
    "plt.plot(thresholds, precisions[:-1], \"b--\", label=\"Precision\")\n",
    "plt.plot(thresholds, recalls[:-1], \"g-\", label=\"Recall\")\n",
    "plt.xlabel('Threshold')\n",
    "plt.title('Precision-Recall curve')\n",
    "plt.legend(loc=\"best\")\n",
    "plt.show()"
   ]
  },
  {
   "cell_type": "markdown",
   "id": "0c495d01",
   "metadata": {},
   "source": [
    "Con este grafico se intenta observas la curva de precisión y recall donde vemos que cambian a medida que ajustamos el umbral para la clasificación de una clase minorista"
   ]
  },
  {
   "cell_type": "markdown",
   "id": "7345c2df",
   "metadata": {},
   "source": [
    "### Otra técnica que usaré es \"logistic_model_weighted\"\n",
    "\n",
    "trato de resolver el desequilibrio de clases usando el conjunto de entrenamiento, haciendo una ponderación de clases. El objetivo es ajustar los pesos de las clases al entrenar el modelo."
   ]
  },
  {
   "cell_type": "code",
   "execution_count": 63,
   "id": "15f2e0e8",
   "metadata": {},
   "outputs": [
    {
     "data": {
      "text/plain": [
       "LogisticRegression(class_weight='balanced', random_state=42)"
      ]
     },
     "execution_count": 63,
     "metadata": {},
     "output_type": "execute_result"
    }
   ],
   "source": [
    "# inicio de weighted\n",
    "logistic_model_weighted = LogisticRegression(class_weight='balanced', random_state=42)\n",
    "logistic_model_weighted.fit(X_train, y_train)"
   ]
  },
  {
   "cell_type": "code",
   "execution_count": 64,
   "id": "45066e47",
   "metadata": {},
   "outputs": [],
   "source": [
    "# predecir en el modelo de prueba \n",
    "y_pred_weighted = logistic_model_weighted.predict(X_test)"
   ]
  },
  {
   "cell_type": "code",
   "execution_count": 65,
   "id": "a25cf0f8",
   "metadata": {},
   "outputs": [
    {
     "data": {
      "text/plain": [
       "('              precision    recall  f1-score   support\\n\\n           0       0.99      0.71      0.83      5244\\n           1       0.06      0.63      0.11       151\\n\\n    accuracy                           0.71      5395\\n   macro avg       0.52      0.67      0.47      5395\\nweighted avg       0.96      0.71      0.81      5395\\n',\n",
       " array([[3736, 1508],\n",
       "        [  56,   95]], dtype=int64))"
      ]
     },
     "execution_count": 65,
     "metadata": {},
     "output_type": "execute_result"
    }
   ],
   "source": [
    "# evaluar weighted\n",
    "evaluation_report_weighted = classification_report(y_test, y_pred_weighted)\n",
    "conf_matrix_weighted = confusion_matrix(y_test, y_pred_weighted)\n",
    "\n",
    "evaluation_report_weighted, conf_matrix_weighted"
   ]
  },
  {
   "cell_type": "code",
   "execution_count": 66,
   "id": "0648aee1",
   "metadata": {},
   "outputs": [
    {
     "name": "stdout",
     "output_type": "stream",
     "text": [
      "              precision    recall  f1-score   support\n",
      "\n",
      "           0       0.99      0.71      0.83      5244\n",
      "           1       0.06      0.63      0.11       151\n",
      "\n",
      "    accuracy                           0.71      5395\n",
      "   macro avg       0.52      0.67      0.47      5395\n",
      "weighted avg       0.96      0.71      0.81      5395\n",
      "\n"
     ]
    }
   ],
   "source": [
    "print(evaluation_report_weighted)"
   ]
  },
  {
   "cell_type": "code",
   "execution_count": 67,
   "id": "0dd21205",
   "metadata": {},
   "outputs": [
    {
     "name": "stdout",
     "output_type": "stream",
     "text": [
      "[[3736 1508]\n",
      " [  56   95]]\n"
     ]
    }
   ],
   "source": [
    "print(conf_matrix_weighted)"
   ]
  },
  {
   "cell_type": "markdown",
   "id": "099143ae",
   "metadata": {},
   "source": [
    "#### Informe de Evaluación\n",
    "\n",
    "- Precisión para no fraudulentos del 99% alto para los no fraudulentas\n",
    "\n",
    "- Recall para no fraudulentos: 71% (falsos positivos)\n",
    "\n",
    "- F1-score para no fraudulentos: 83%\n",
    "\n",
    "\n",
    "- Precisión para fraudulentos del 6% aún que es bajo identifica correctamente algunas transacciones fraudulentas\n",
    "\n",
    "- Recall para fraudulentos: 63% una mejora significancia, el modelo ahora es capaz de identificar más fraudes\n",
    "\n",
    "- F1-score para fraudulentos: 11%\n"
   ]
  },
  {
   "cell_type": "markdown",
   "id": "e1fd85ad",
   "metadata": {},
   "source": [
    "#### Matriz de Confusión: \n",
    "Una representación gráfica que ayuda a visualizar el desempeño del modelo en términos de falsos positivos, falsos negativos, verdaderos positivos y verdaderos negativos."
   ]
  },
  {
   "cell_type": "code",
   "execution_count": 68,
   "id": "64a7687b",
   "metadata": {},
   "outputs": [
    {
     "data": {
      "image/png": "[encoded data removed]",
      "text/plain": [
       "<Figure size 800x600 with 1 Axes>"
      ]
     },
     "metadata": {},
     "output_type": "display_data"
    }
   ],
   "source": [
    "# matriz confusión\n",
    "plt.figure(figsize=(8, 6))\n",
    "sns.heatmap(conf_matrix_weighted, annot=True, fmt='d', cmap='Blues', cbar=False,\n",
    "            xticklabels=['Non-Fraud', 'Fraud'], yticklabels=['Non-Fraud', 'Fraud'])\n",
    "plt.xlabel('Predicted Label')\n",
    "plt.ylabel('True Label')\n",
    "plt.title('Confusion Matrix for Weighted Logistic Regression')\n",
    "plt.show()\n"
   ]
  },
  {
   "cell_type": "markdown",
   "id": "6a9cc63b",
   "metadata": {},
   "source": [
    "#### Matriz de Confusión\n",
    "\n",
    "- Verdaderos Negativos (TN): 3738\n",
    "- Falsos Positivos (FP): 1506 transacciones no fraudulentas identificadas erróneamente como fraudulentas\n",
    "- Verdaderos Positivos (VP): 95 transacciones fraudulentas identificadas correctamente\n",
    "- Falsos Negativos (FN): 56 transacciones fraudulentas no detectadas"
   ]
  },
  {
   "cell_type": "markdown",
   "id": "236aeaee",
   "metadata": {},
   "source": [
    "### Reporte de Clasificación:\n",
    "Una tabla que muestre las métricas clave (precisión, recall, f1-score) para cada clase, nos ayuda a entender mucho mejor los resultados"
   ]
  },
  {
   "cell_type": "code",
   "execution_count": 69,
   "id": "1e996ea8",
   "metadata": {},
   "outputs": [
    {
     "data": {
      "text/html": [
       "<div>\n",
       "<style scoped>\n",
       "    .dataframe tbody tr th:only-of-type {\n",
       "        vertical-align: middle;\n",
       "    }\n",
       "\n",
       "    .dataframe tbody tr th {\n",
       "        vertical-align: top;\n",
       "    }\n",
       "\n",
       "    .dataframe thead th {\n",
       "        text-align: right;\n",
       "    }\n",
       "</style>\n",
       "<table border=\"1\" class=\"dataframe\">\n",
       "  <thead>\n",
       "    <tr style=\"text-align: right;\">\n",
       "      <th></th>\n",
       "      <th>precision</th>\n",
       "      <th>recall</th>\n",
       "      <th>f1-score</th>\n",
       "      <th>support</th>\n",
       "    </tr>\n",
       "  </thead>\n",
       "  <tbody>\n",
       "    <tr>\n",
       "      <th>0</th>\n",
       "      <td>0.985232</td>\n",
       "      <td>0.712433</td>\n",
       "      <td>0.826915</td>\n",
       "      <td>5244.000000</td>\n",
       "    </tr>\n",
       "    <tr>\n",
       "      <th>1</th>\n",
       "      <td>0.059264</td>\n",
       "      <td>0.629139</td>\n",
       "      <td>0.108324</td>\n",
       "      <td>151.000000</td>\n",
       "    </tr>\n",
       "    <tr>\n",
       "      <th>accuracy</th>\n",
       "      <td>0.710102</td>\n",
       "      <td>0.710102</td>\n",
       "      <td>0.710102</td>\n",
       "      <td>0.710102</td>\n",
       "    </tr>\n",
       "    <tr>\n",
       "      <th>macro avg</th>\n",
       "      <td>0.522248</td>\n",
       "      <td>0.670786</td>\n",
       "      <td>0.467619</td>\n",
       "      <td>5395.000000</td>\n",
       "    </tr>\n",
       "    <tr>\n",
       "      <th>weighted avg</th>\n",
       "      <td>0.959315</td>\n",
       "      <td>0.710102</td>\n",
       "      <td>0.806802</td>\n",
       "      <td>5395.000000</td>\n",
       "    </tr>\n",
       "  </tbody>\n",
       "</table>\n",
       "</div>"
      ],
      "text/plain": [
       "              precision    recall  f1-score      support\n",
       "0              0.985232  0.712433  0.826915  5244.000000\n",
       "1              0.059264  0.629139  0.108324   151.000000\n",
       "accuracy       0.710102  0.710102  0.710102     0.710102\n",
       "macro avg      0.522248  0.670786  0.467619  5395.000000\n",
       "weighted avg   0.959315  0.710102  0.806802  5395.000000"
      ]
     },
     "metadata": {},
     "output_type": "display_data"
    }
   ],
   "source": [
    "# informe de clasificación\n",
    "\n",
    "report_df = pd.DataFrame(classification_report(y_test, y_pred_weighted, output_dict=True)).T\n",
    "display(report_df)\n",
    "\n"
   ]
  },
  {
   "cell_type": "markdown",
   "id": "4984d9a3",
   "metadata": {},
   "source": [
    "#### Curva ROC:\n",
    "Un gráfico que muestra la relación entre la tasa de verdaderos positivos y la tasa de falsos positivos a diferentes umbrales de clasificación. Esto es útil para evaluar la capacidad discriminativa del modelo."
   ]
  },
  {
   "cell_type": "code",
   "execution_count": 70,
   "id": "9f467971",
   "metadata": {},
   "outputs": [
    {
     "data": {
      "image/png": "[encoded data removed]",
      "text/plain": [
       "<Figure size 800x600 with 1 Axes>"
      ]
     },
     "metadata": {},
     "output_type": "display_data"
    }
   ],
   "source": [
    "# Plot ROC curve\n",
    "fpr, tpr, thresholds = roc_curve(y_test, logistic_model_weighted.predict_proba(X_test)[:, 1])\n",
    "roc_auc = auc(fpr, tpr)\n",
    "\n",
    "plt.figure(figsize=(8, 6))\n",
    "plt.plot(fpr, tpr, color='darkorange', lw=2, label=f'ROC curve (area = {roc_auc:.2f})')\n",
    "plt.plot([0, 1], [0, 1], color='navy', lw=2, linestyle='--')\n",
    "plt.xlabel('False Positive Rate')\n",
    "plt.ylabel('True Positive Rate')\n",
    "plt.title('Receiver Operating Characteristic (ROC) Curve')\n",
    "plt.legend(loc=\"lower right\")\n",
    "plt.show()"
   ]
  },
  {
   "cell_type": "markdown",
   "id": "9ee7640e",
   "metadata": {},
   "source": [
    "#### Conclusiones finales\n",
    "\n",
    "Este modelo muestra una mejora considerablemente en la detección de transacciones fraudulentas a expensas de un mayor número de falsos positivos, lo que afecta la precisión y el recall de la clase 0. \n",
    "\n",
    "Podemos observas el grafico un AUC del 73% lo que nos dice que si bien no es el mejor modelo tiene la capacidad de distinguir relativamente bien entre la clase positiva y negativa. Mientras que la cuerva ROC esta por encima de la línea de clasificación aleatoria.\n",
    "\n",
    "#### Recomendaciones adicionales:\n",
    "\n",
    "Exploración de Umbrales: si bien ya hemos exploraro varias formas formas para atacar el desequilibrio podemos evaluar diferentes umbrales de decisión para encontrar un punto óptimo que mejore la precisión sin comprometer demasiado el recall, potencialmente utilizando la curva de precisión-recuerdo además de la curva ROC."
   ]
  },
  {
   "cell_type": "code",
   "execution_count": null,
   "id": "df093476",
   "metadata": {},
   "outputs": [],
   "source": []
  }
 ],
 "metadata": {
  "kernelspec": {
   "display_name": "Python 3 (ipykernel)",
   "language": "python",
   "name": "python3"
  },
  "language_info": {
   "codemirror_mode": {
    "name": "ipython",
    "version": 3
   },
   "file_extension": ".py",
   "mimetype": "text/x-python",
   "name": "python",
   "nbconvert_exporter": "python",
   "pygments_lexer": "ipython3",
   "version": "3.9.13"
  }
 },
 "nbformat": 4,
 "nbformat_minor": 5
}
